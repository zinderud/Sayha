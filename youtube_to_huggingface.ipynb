{
 "cells": [
  {
   "cell_type": "markdown",
   "metadata": {
    "id": "intro-section"
   },
   "source": [
    "# 🎥 YouTube'dan Hugging Face'e Toplu Veri Seti Yükleme\n",
    "\n",
    "Bu notebook, YouTube videolarını toplu olarak indirip işleyerek Hugging Face'e yükler.\n",
    "\n",
    "📝 Kullanım:\n",
    "1. Runtime > Run all seçeneğini seçin\n",
    "2. Hugging Face token'ınızı girin\n",
    "3. YouTube URL'lerini listeleyin\n",
    "4. İşlemin tamamlanmasını bekleyin"
   ]
  },
  {
   "cell_type": "code",
   "execution_count": null,
   "metadata": {
    "id": "setup-section"
   },
   "source": [
    "# @title 🔧 Kurulum ve Bağımlılıklar\n",
    "\n",
    "!pip install yt-dlp pydub webvtt-py datasets transformers librosa huggingface_hub python-dotenv\n",
    "\n",
    "import os\n",
    "import subprocess\n",
    "import time\n",
    "from getpass import getpass\n",
    "from typing import List\n",
    "\n",
    "# Klasörleri oluştur\n",
    "!mkdir -p /content/output/audio\n",
    "!mkdir -p /content/output/json\n",
    "!mkdir -p /content/output/spectrogram\n",
    "\n",
    "# Gerekli scriptleri indir\n",
    "!wget https://raw.githubusercontent.com/zinderud/sayha/main/youtube_splitter_tr.py\n",
    "!wget https://raw.githubusercontent.com/zinderud/sayha/main/processed_dataset.py\n",
    "!wget https://raw.githubusercontent.com/zinderud/sayha/main/upload_to_huggingface.py"
   ]
  },
  {
   "cell_type": "code",
   "execution_count": null,
   "metadata": {
    "id": "functions-section"
   },
   "source": [
    "# @title 🛠 İşlev Tanımlamaları\n",
    "\n",
    "def process_youtube_video(youtube_url: str) -> bool:\n",
    "    try:\n",
    "        # YouTube videosunu işle\n",
    "        !python youtube_splitter_tr.py {youtube_url}\n",
    "        \n",
    "        # Veri setini işle\n",
    "        !python processed_dataset.py\n",
    "        \n",
    "        # Hugging Face'e yükle\n",
    "        !python upload_to_huggingface.py\n",
    "        \n",
    "        print(f\"✅ {youtube_url} başarıyla işlendi!\")\n",
    "        return True\n",
    "        \n",
    "    except Exception as e:\n",
    "        print(f\"❌ Hata oluştu ({youtube_url}): {e}\")\n",
    "        return False\n",
    "    finally:\n",
    "        # Geçici dosyaları temizle\n",
    "        !rm -rf /content/output/audio/*\n",
    "        !rm -rf /content/output/json/*\n",
    "        !rm -rf /content/output/spectrogram/*\n",
    "\n",
    "def process_video_list(youtube_urls: List[str]):\n",
    "    total_videos = len(youtube_urls)\n",
    "    successful_videos = 0\n",
    "    failed_videos = 0\n",
    "\n",
    "    print(f\"\\nToplam {total_videos} video işlenecek...\")\n",
    "    print(\"-\" * 50)\n",
    "\n",
    "    for index, url in enumerate(youtube_urls, 1):\n",
    "        print(f\"\\n📽 Video {index}/{total_videos} işleniyor...\")\n",
    "        print(f\"🔗 URL: {url}\")\n",
    "        \n",
    "        if process_youtube_video(url):\n",
    "            successful_videos += 1\n",
    "        else:\n",
    "            failed_videos += 1\n",
    "        \n",
    "        # Son video değilse bekle\n",
    "        if index < total_videos:\n",
    "            print(\"\\n⏳ Bir sonraki video için 60 saniye bekleniyor...\")\n",
    "            time.sleep(60)\n",
    "    \n",
    "    print(\"\\n\" + \"=\" * 50)\n",
    "    print(\"İşlem Özeti:\")\n",
    "    print(f\"✅ Başarılı: {successful_videos}\")\n",
    "    print(f\"❌ Başarısız: {failed_videos}\")\n",
    "    print(f\"📊 Başarı Oranı: {(successful_videos/total_videos)*100:.1f}%\")\n",
    "    print(\"=\" * 50)"
   ]
  },
  {
   "cell_type": "code",
   "execution_count": null,
   "metadata": {
    "id": "token-section"
   },
   "source": [
    "# @title 🔑 Hugging Face Token'ı Ayarla\n",
    "\n",
    "token = getpass('Hugging Face Token: ')\n",
    "os.environ['HUGGINGFACE_TOKEN'] = token"
   ]
  },
  {
   "cell_type": "code",
   "execution_count": null,
   "metadata": {
    "id": "processing-section"
   },
   "source": [
    "# @title 🎬 Video İşleme\n",
    "\n",
    "# Video URL'lerini buraya ekleyin\n",
    "youtube_urls = [\n",
    "    # Örnek:\n",
    "    # \"https://www.youtube.com/watch?v=video1\",\n",
    "    # \"https://www.youtube.com/watch?v=video2\",\n",
    "]\n",
    "\n",
    "# URL'leri işle\n",
    "if youtube_urls:\n",
    "    process_video_list(youtube_urls)\n",
    "else:\n",
    "    print(\"❌ En az bir YouTube URL'si eklemelisiniz!\")"
   ]
  }
 ],
 "metadata": {
  "colab": {
   "name": "YouTube to HuggingFace Batch Processor",
   "provenance": []
  },
  "kernelspec": {
   "display_name": "Python 3",
   "language": "python",
   "name": "python3"
  },
  "language_info": {
   "name": "python",
   "version": "3.10.12"
  }
 },
 "nbformat": 4,
 "nbformat_minor": 2
}